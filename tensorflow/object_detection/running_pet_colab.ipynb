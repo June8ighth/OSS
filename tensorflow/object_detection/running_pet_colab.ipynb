{
  "nbformat": 4,
  "nbformat_minor": 0,
  "metadata": {
    "colab": {
      "name": "Untitled0.ipynb",
      "provenance": [],
      "authorship_tag": "ABX9TyN6ZaaJkER7CfusVcAk2kKn",
      "include_colab_link": true
    },
    "kernelspec": {
      "name": "python3",
      "display_name": "Python 3"
    },
    "accelerator": "GPU"
  },
  "cells": [
    {
      "cell_type": "markdown",
      "metadata": {
        "id": "view-in-github",
        "colab_type": "text"
      },
      "source": [
        "<a href=\"https://colab.research.google.com/github/June8ighth/OSS/blob/master/tensorflow/object_detection/running_pet_colab.ipynb\" target=\"_parent\"><img src=\"https://colab.research.google.com/assets/colab-badge.svg\" alt=\"Open In Colab\"/></a>"
      ]
    },
    {
      "cell_type": "markdown",
      "metadata": {
        "id": "JTaEu8ETaUI5",
        "colab_type": "text"
      },
      "source": [
        "1. check if gpu enabled."
      ]
    },
    {
      "cell_type": "code",
      "metadata": {
        "id": "D2gQgLlxoBOE",
        "colab_type": "code",
        "colab": {}
      },
      "source": [
        "!nvidia-smi"
      ],
      "execution_count": 0,
      "outputs": []
    },
    {
      "cell_type": "markdown",
      "metadata": {
        "id": "SkHCCzp1ab5r",
        "colab_type": "text"
      },
      "source": [
        "2. downgrade numpy version to the 1.17.4. it will help to remove numpy int64 errors."
      ]
    },
    {
      "cell_type": "code",
      "metadata": {
        "id": "1f7Hga1QraVW",
        "colab_type": "code",
        "colab": {}
      },
      "source": [
        "import numpy\n",
        "print(numpy.__version__)"
      ],
      "execution_count": 0,
      "outputs": []
    },
    {
      "cell_type": "code",
      "metadata": {
        "id": "ZLPnf1oxxS6g",
        "colab_type": "code",
        "colab": {}
      },
      "source": [
        "!pip install --upgrade numpy==1.17.4"
      ],
      "execution_count": 0,
      "outputs": []
    },
    {
      "cell_type": "markdown",
      "metadata": {
        "id": "TpYbwrEMa3Yp",
        "colab_type": "text"
      },
      "source": [
        "3. mount google drive which contains dataset and pre-trained models"
      ]
    },
    {
      "cell_type": "code",
      "metadata": {
        "id": "_gNvHxGTlUJx",
        "colab_type": "code",
        "colab": {}
      },
      "source": [
        "from google.colab import drive\n",
        "drive.mount(\"/content/gdrive\", force_remount=True)"
      ],
      "execution_count": 0,
      "outputs": []
    },
    {
      "cell_type": "markdown",
      "metadata": {
        "id": "R3jqXKOAbBAW",
        "colab_type": "text"
      },
      "source": [
        "4. create working directory"
      ]
    },
    {
      "cell_type": "code",
      "metadata": {
        "id": "pUPyVsdHkeNC",
        "colab_type": "code",
        "colab": {}
      },
      "source": [
        "!mkdir /tf "
      ],
      "execution_count": 0,
      "outputs": []
    },
    {
      "cell_type": "markdown",
      "metadata": {
        "id": "YpH4HruwbD7e",
        "colab_type": "text"
      },
      "source": [
        "5. clone tensorflow object detection api"
      ]
    },
    {
      "cell_type": "code",
      "metadata": {
        "id": "nUFbx_g8n3Lq",
        "colab_type": "code",
        "colab": {}
      },
      "source": [
        "!cd /tf && git clone https://github.com/tensorflow/models.git && \\\n",
        "cd /tf/models/research && \\\n",
        "protoc object_detection/protos/*.proto --python_out=.  && \\\n",
        "export PYTHONPATH=$PYTHONPATH:/tf/models/research:/tf/models/research/slim && \\\n",
        "python object_detection/builders/model_builder_test.py"
      ],
      "execution_count": 0,
      "outputs": []
    },
    {
      "cell_type": "markdown",
      "metadata": {
        "id": "gr6nF4a3bJwK",
        "colab_type": "text"
      },
      "source": [
        "6. clone custom learning source codes"
      ]
    },
    {
      "cell_type": "code",
      "metadata": {
        "id": "9NZB8gatUVa1",
        "colab_type": "code",
        "colab": {}
      },
      "source": [
        "!cd /tf && git clone https://github.com/June8ighth/OSS.git"
      ],
      "execution_count": 0,
      "outputs": []
    },
    {
      "cell_type": "markdown",
      "metadata": {
        "id": "l1Jz0VopbSvL",
        "colab_type": "text"
      },
      "source": [
        "7. make symbolic link below of /tf"
      ]
    },
    {
      "cell_type": "code",
      "metadata": {
        "id": "7to5TH_2ozbZ",
        "colab_type": "code",
        "colab": {}
      },
      "source": [
        "!ln -s '/content/gdrive/My Drive/DeepLearning/data/Oxford-IIIT-Pet/tfrecords' /tf/data && \\\n",
        "ln -s '/content/gdrive/My Drive/DeepLearning/models/faster_rcnn_resnet101_pets' /tf/model && \\\n",
        "ln -s /tf/OSS/tensorflow/object_detection /tf/notebooks"
      ],
      "execution_count": 0,
      "outputs": []
    },
    {
      "cell_type": "markdown",
      "metadata": {
        "id": "ZKXGrYDGbc5B",
        "colab_type": "text"
      },
      "source": [
        "8. run custom learning"
      ]
    },
    {
      "cell_type": "code",
      "metadata": {
        "id": "sgLQHQVPy_MS",
        "colab_type": "code",
        "colab": {}
      },
      "source": [
        "!export PYTHONPATH=$PYTHONPATH:/tf/models/research:/tf/models/research/slim && \\\n",
        "cd /tf/notebooks && \\\n",
        "./learn.sh"
      ],
      "execution_count": 0,
      "outputs": []
    }
  ]
}